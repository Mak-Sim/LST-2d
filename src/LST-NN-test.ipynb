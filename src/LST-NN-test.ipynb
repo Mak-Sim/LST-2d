{
 "cells": [
  {
   "cell_type": "markdown",
   "metadata": {},
   "source": [
    "### Library"
   ]
  },
  {
   "cell_type": "code",
   "execution_count": 1,
   "metadata": {},
   "outputs": [
    {
     "name": "stdout",
     "output_type": "stream",
     "text": [
      "Working on device cpu\n"
     ]
    }
   ],
   "source": [
    "import numpy as np\n",
    "import torch\n",
    "import torch.nn as nn\n",
    "\n",
    "\n",
    "import torchvision\n",
    "import matplotlib.pyplot as plt\n",
    "from torchvision import datasets, transforms\n",
    "from tqdm import tqdm\n",
    "from l2dst_lib.lst_nn import LST_1, LST_2,ResLST\n",
    "\n",
    "device = torch.device('cuda' if torch.cuda.is_available() else 'cpu')\n",
    "print(f\"Working on device {device}\")\n"
   ]
  },
  {
   "cell_type": "markdown",
   "metadata": {},
   "source": [
    "# Load dataset"
   ]
  },
  {
   "cell_type": "code",
   "execution_count": 3,
   "metadata": {},
   "outputs": [],
   "source": [
    "# Transform image to 1x784 and normalize colors\n",
    "transform = transforms.Compose([\n",
    "    transforms.ToTensor(),\n",
    "    transforms.Normalize((0.5,), (0.5,))\n",
    "])\n",
    "\n",
    "path_to_MNIST = '../../Datasets'\n",
    "\n",
    "# Download/load dataset\n",
    "testset = datasets.MNIST(path_to_MNIST, download=False, train=False, transform=transform)\n",
    "\n",
    "\n",
    "# Create dataloaders\n",
    "test_loader = torch.utils.data.DataLoader(testset, batch_size=1000, shuffle=False) "
   ]
  },
  {
   "cell_type": "code",
   "execution_count": 7,
   "metadata": {},
   "outputs": [],
   "source": [
    "def acc_eval(model, device, test_loader):\n",
    "    model.to(device)\n",
    "\n",
    "    correct = 0\n",
    "    total = 0\n",
    "\n",
    "    model.eval()\n",
    "    for X, y_true in test_loader:\n",
    "        X = X.squeeze(1) \n",
    "        X = X.to(device)\n",
    "        y_true = y_true.to(device)\n",
    "        \n",
    "        outputs = model(X)\n",
    "        _,y_pred = torch.max(outputs, dim=1)\n",
    "        total +=y_true.shape[0]\n",
    "        correct +=int((y_pred==y_true).sum())\n",
    "\n",
    "    print(f\"Accuracy = {correct/total: .4f}\")"
   ]
  },
  {
   "cell_type": "markdown",
   "metadata": {},
   "source": [
    "# LST-1 test"
   ]
  },
  {
   "cell_type": "code",
   "execution_count": 8,
   "metadata": {},
   "outputs": [
    {
     "name": "stderr",
     "output_type": "stream",
     "text": [
      "c:\\Users\\m.vashkevich\\AppData\\Local\\Programs\\Python\\Python311\\Lib\\site-packages\\torch\\nn\\modules\\lazy.py:180: UserWarning: Lazy modules are a new feature under heavy development so changes to the API or functionality can happen at any moment.\n",
      "  warnings.warn('Lazy modules are a new feature under heavy development '\n"
     ]
    },
    {
     "name": "stdout",
     "output_type": "stream",
     "text": [
      "Accuracy =  0.9802\n",
      "Number of parameters = 9474\n"
     ]
    }
   ],
   "source": [
    "input_size = 28  # 28x28 images flattened\n",
    "output_size = 10  # 10 classes for digits 0-9\n",
    "\n",
    "model = LST_1(input_size, output_size, device=device)\n",
    "\n",
    "model.load_state_dict(torch.load(f'models\\LST_1_epoch_300.pth', map_location=torch.device('cpu'))) #\n",
    "\n",
    "acc_eval(model, device, test_loader)\n",
    "\n",
    "pytorch_total_params = sum(p.numel() for p in model.parameters() if p.requires_grad)\n",
    "print('Number of parameters =', pytorch_total_params)"
   ]
  },
  {
   "cell_type": "markdown",
   "metadata": {},
   "source": [
    "# LST-2 test"
   ]
  },
  {
   "cell_type": "code",
   "execution_count": 15,
   "metadata": {},
   "outputs": [
    {
     "name": "stdout",
     "output_type": "stream",
     "text": [
      "Accuracy =  0.9836\n",
      "Number of parameters = 11098\n"
     ]
    }
   ],
   "source": [
    "input_size = 28  # 28x28 images flattened\n",
    "hidden_size = 28\n",
    "output_size = 10  # 10 classes for digits 0-9\n",
    "\n",
    "model = LST_2(input_size, hidden_size, output_size, device=device)\n",
    "\n",
    "model.load_state_dict(torch.load(f'models\\LST_2_epoch_300.pth', map_location=torch.device('cpu'))) #\n",
    "\n",
    "acc_eval(model, device, test_loader)\n",
    "\n",
    "pytorch_total_params = sum(p.numel() for p in model.parameters() if p.requires_grad)\n",
    "print('Number of parameters =', pytorch_total_params)"
   ]
  },
  {
   "cell_type": "markdown",
   "metadata": {},
   "source": [
    "# ResLST-3 test"
   ]
  },
  {
   "cell_type": "code",
   "execution_count": null,
   "metadata": {},
   "outputs": [
    {
     "name": "stderr",
     "output_type": "stream",
     "text": [
      "c:\\Users\\m.vashkevich\\AppData\\Local\\Programs\\Python\\Python311\\Lib\\site-packages\\torch\\nn\\modules\\lazy.py:180: UserWarning: Lazy modules are a new feature under heavy development so changes to the API or functionality can happen at any moment.\n",
      "  warnings.warn('Lazy modules are a new feature under heavy development '\n"
     ]
    },
    {
     "name": "stdout",
     "output_type": "stream",
     "text": [
      "Accuracy =  0.9853\n",
      "Number of parameters = 12722\n"
     ]
    }
   ],
   "source": [
    "input_size = 28  # 28x28 images flattened\n",
    "hidden_size = 28\n",
    "output_size = 10  # 10 classes for digits 0-9\n",
    "\n",
    "model = ResLST(input_size, hidden_size, output_size, device=device)\n",
    "\n",
    "model.load_state_dict(torch.load(f'models\\ResLST_epoch_300.pth', map_location=torch.device('cpu'))) #\n",
    "\n",
    "acc_eval(model, device, test_loader)\n",
    "\n",
    "pytorch_total_params = sum(p.numel() for p in model.parameters() if p.requires_grad)\n",
    "print('Number of parameters =', pytorch_total_params)"
   ]
  },
  {
   "cell_type": "markdown",
   "metadata": {},
   "source": [
    "# Visualization"
   ]
  },
  {
   "cell_type": "code",
   "execution_count": 23,
   "metadata": {},
   "outputs": [
    {
     "data": {
      "image/png": "[encoded data removed]",
      "text/plain": [
       "<Figure size 700x150 with 6 Axes>"
      ]
     },
     "metadata": {},
     "output_type": "display_data"
    }
   ],
   "source": [
    "input_size = 28  # 28x28 images flattened\n",
    "output_size = 10  # 10 classes for digits 0-9\n",
    "\n",
    "model = LST_1(input_size, output_size, device=device)\n",
    "\n",
    "model.load_state_dict(torch.load(f'models\\LST_1_epoch_300.pth', map_location=torch.device('cpu'))) #\n",
    "model.to(device)\n",
    "\n",
    "img, label = testset[0]\n",
    "img = img.to(device)\n",
    "\n",
    "\n",
    "e1,e2 = model.get_embeddings(img)\n",
    "\n",
    "fig, ax = plt.subplots(figsize=(7,1.5), nrows=1, ncols=3)\n",
    "plt.subplot(1,3,1)\n",
    "plt.imshow(img.squeeze(0).detach().cpu(), vmin=-1, vmax=1)\n",
    "plt.title('Source image')\n",
    "plt.colorbar()\n",
    "plt.subplot(1,3,2)\n",
    "plt.imshow(e1.squeeze(0).detach().cpu(), vmin=-1, vmax=1)\n",
    "plt.title('FC1 out')\n",
    "plt.colorbar()\n",
    "plt.subplot(1,3,3)\n",
    "plt.imshow(e2.squeeze(0).detach().cpu(), vmin=-1, vmax=1)\n",
    "plt.title('FC2 out')\n",
    "plt.colorbar()\n",
    "\n",
    "plt.subplots_adjust(wspace=0.6) \n",
    "\n",
    "# Saving results\n",
    "image_name = f'../img/LST_l_embedding_digit_7.png'\n",
    "fig.savefig(image_name, format='png', bbox_inches='tight', pad_inches = 0.2) # dpi=250,"
   ]
  }
 ],
 "metadata": {
  "kernelspec": {
   "display_name": "Python 3",
   "language": "python",
   "name": "python3"
  },
  "language_info": {
   "codemirror_mode": {
    "name": "ipython",
    "version": 3
   },
   "file_extension": ".py",
   "mimetype": "text/x-python",
   "name": "python",
   "nbconvert_exporter": "python",
   "pygments_lexer": "ipython3",
   "version": "3.11.5"
  }
 },
 "nbformat": 4,
 "nbformat_minor": 2
}
